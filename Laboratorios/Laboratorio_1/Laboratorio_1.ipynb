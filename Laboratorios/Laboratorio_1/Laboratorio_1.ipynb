{
 "cells": [
  {
   "cell_type": "markdown",
   "metadata": {},
   "source": [
    "<h1><center>Laboratorio 1: Git 👾</center></h1>\n",
    "\n",
    "<center><strong>MDS7202: Laboratorio de Programación Científica para Ciencia de Datos - Primavera 2023</strong></center>"
   ]
  },
  {
   "cell_type": "markdown",
   "metadata": {},
   "source": [
    "### Cuerpo Docente:\n",
    "\n",
    "- Profesores: Ignacio Meza, Gabriel Iturra\n",
    "- Auxiliar: Sebastián Tinoco\n",
    "- Ayudante: Arturo Lazcano, Angelo Muñoz"
   ]
  },
  {
   "cell_type": "markdown",
   "metadata": {},
   "source": [
    "### Equipo: SUPER IMPORTANTE - notebooks sin nombre no serán revisados\n",
    "\n",
    "- Nombre de alumno 1: Mathias González Espinoza.\n",
    "- Nombre de alumno 2: Eduardo Javier Silva Gaete."
   ]
  },
  {
   "cell_type": "markdown",
   "metadata": {},
   "source": [
    "### **Link de repositorio de GitHub:** `https://github.com/Zerzer0/MDS7202`"
   ]
  },
  {
   "cell_type": "markdown",
   "metadata": {},
   "source": [
    "## Reglas:\n",
    "\n",
    "- Fecha de entrega: 6 días desde la publicación, 3 días de atraso con 1 punto de descuento c/u. Pueden utilizar días bonus sin descuento.\n",
    "- **Grupos de 2 personas**\n",
    "- Asistencia **obligatoria** a instrucciones del lab (viernes 16.15). Luego, pueden quedarse trabajando en las salas o irse.\n",
    "- **Ausentes tienen nota máxima 6.0**.  \n",
    "- Cualquier duda fuera del horario de clases al foro. Mensajes al equipo docente serán respondidos por este medio.\n",
    "- <u>Prohibidas las copias</u>. Cualquier intento de copia será debidamente penalizado con el reglamento de la escuela.\n",
    "- Pueden usar cualquer material del curso que estimen conveniente.\n",
    "- Asistencia obligatoria a instrucciones del lab (viernes 16.15). Luego, pueden quedarse trabajando en las salas o irse."
   ]
  },
  {
   "cell_type": "markdown",
   "metadata": {},
   "source": [
    "## Objetivos del lab:\n",
    "\n",
    "\n",
    "- Conocer los elementos básicos que conformar `Git`\n",
    "- Clonar repositorios\n",
    "- Identificar ramas de un repositorio\n",
    "- Reconocer y solucionar problemas entre ramas\n",
    "- Subir cambios a un repositorio"
   ]
  },
  {
   "cell_type": "markdown",
   "metadata": {},
   "source": [
    "## Parte 1: Conocimiento Teórico (2.5 pts)\n",
    "\n",
    "<p align=\"center\">\n",
    "  <img src=\"https://cdn.thedesigninspiration.com/wp-content/uploads/sites/3/2019/04/macintosh-hdusersbrittanyloefflerdownloadsanig-1.gif\" width=\"350\">\n",
    "</p>"
   ]
  },
  {
   "cell_type": "markdown",
   "metadata": {},
   "source": [
    "Responda las siguientes preguntas (0.2 pts c/u):\n",
    "\n",
    "1. ¿Qué es `Git` y cómo se relaciona con el control de versiones?\n",
    "\n",
    "2. Nombre y explique 3 diferencias entre `Git` y `Github`.\n",
    "\n",
    "3. ¿Qué es un `hash` y cómo se representa en un `commit`? De un ejemplo.\n",
    "\n",
    "4. ¿Que elementos componen a la estructura de datos de `Git`?\n",
    "\n",
    "5. ¿Que comandos de `Git` sirven para crear un repositorio y hacer seguimiento a cambios en los archivos?"
   ]
  },
  {
   "cell_type": "markdown",
   "metadata": {},
   "source": [
    "<code>Escriba sus respuestas acá:</code>\n",
    "\n",
    "1. `Git` es un sistema de control de versiones distribuido (DVCS) que se utiliza para rastrear cambios en archivos y colaborar en proyectos de desarrollo de software, y se relaciona con el control de versiones puesto que permite llevar un registro de los cambios realizados en los archivos de un proyecto.\n",
    "\n",
    "2. - Git es un sistema de control de versiones distribuido, mientras que Github es una plataforma web que utiliza Git como su sistema de control de versiones subyacente.\n",
    "   - Git almacena los repositorios de forma local, meintras que Github almacena los repositorios en servidores remotos en la nube.\n",
    "   - Git es una herramienta de linea de comando, mientras de Github entrega una interfaz gráfica.\n",
    "\n",
    "3. Un hash es un identificador de cambio único que contiene 40 carácteres y que puede apuntar a un blob, un commit o un árbol, para el caso del commit este puede ser representado por los primeros 7 carácteres del hash, por ejemplo para el un hash cualquiera:\n",
    "\n",
    "   `369ad5b7cbf1b9a1be984a9f61b79a05f23b19f66d`\n",
    "\n",
    "   Para el caso de un commit bastaria con:\n",
    "\n",
    "   `369ad5b7`\n",
    "\n",
    "4. Los elementos que componen la estructura de datos de git son:\n",
    "\n",
    "- Blob (Binary Large Object): Consiste en el contenido de un archivo en un determinado momento.\n",
    "\n",
    "- Tree: Consiste en el contenido de un directorio en un determinado momento.\n",
    "\n",
    "- Stage area: En esta area se ubican todos los archivos y modificaciones a estos, que pretenden incluirse en el proximo commit a realizar.\n",
    "\n",
    "- Commit: Un commit corresponde a un determinado instante de tiempo de un proyecto, en el cual se consideran tanto los archivos y modificaciones del proyecto en ese instante de tiempo.\n",
    "\n",
    "- Tag: Un Tag es una etiqueta que referencia un commit especifico.\n",
    "\n",
    "- Head: Es un puntero que referencia el último commit realizado y la rama actual.\n",
    "\n",
    "- Brach: Un Brach es una línea de desarrollo distinta a la línea principal del proyecto, la cual guarda una serie de commits. Estas ramas permiten trabajar en distintas partes de un proyecto de manera independiente sin que interfieran entre si.\n",
    "\n",
    "- Remote: Un Remote es una referencia a un repositorio remoto, como GitHub, en el cual se pueden respaldar todos los archivos locales.\n",
    "\n",
    "5. Para crear un repositorio de manera local basta con utilizar el comando `git init`. Por otro lado, para realizar un seguimiento de los cambios realizado, en primer lugar, se deben usar los comandos `git add` y `git commit` para agregar los archivos al área Stage y guardar los cambios respectivamente. Finalmente, para ver el historial de cambios (historial de commits) de los archivos se debe ejecutar el comando `git log`."
   ]
  },
  {
   "cell_type": "markdown",
   "metadata": {},
   "source": [
    "Responda si las siguientes afirmaciones son Verdaderas (V) o Falsas (F). Justifique en **cualquiera** de los casos (0.2 pts c/u):\n",
    "\n",
    "\n",
    "6. `Git` siempre resuelve automáticamente los problemas de lineas al hacer merge entre diferentes ramas.\n",
    "7. Ejecutar `git pull` sobre un repositorio es equivalente a ejecutar `git clone`.\n",
    "8. `git status` genera los mismos resultados que `git log`.\n",
    "9. En `Git` es posible deshacer cambios y volver a versiones anteriores del código.\n",
    "10. El comando `git commit` se utiliza para enviar cambios al repositorio remoto."
   ]
  },
  {
   "cell_type": "markdown",
   "metadata": {},
   "source": [
    "<code>Escriba sus respuestas acá:</code>\n",
    "\n",
    "6. Falso, si se encuentran conflictos en las lineas de código modificadas Git no podrá solucionarlo automáticamente por lo que se tendria que hacer manualmente.\n",
    "7. Falso, `git pull` trae los registros de cambios del repositorio remoto al repositorio local y se puede ejecutar varias veces, mientras que `git glone` crea una copia exacta del repositorio remoto al almacenamiento local y solo se ejecuta una vez.\n",
    "8. Falso, `git status` muestra información sobre el estado actual de la rama respecto a su estado anterior, mientras que `git log` muestra información detallada sobre los commits realizados.\n",
    "9. Verdadero, para volver a la versión anterior de un código se debe utilizar el comando `git reset --hard <identificador-commit>`, donde se debe indicar el identificador del commit que contiene la versión del código al cual se quiere regresar. \n",
    "10. Falso, el comando `git commit` sirve para guardar cambios de manera local. Si se desea enviar cambios a un repositorio remoto, se debe utilizar el comando `git push`."
   ]
  },
  {
   "cell_type": "markdown",
   "metadata": {},
   "source": [
    "Por último, investigue y comente para qué sirven los siguientes comandos:\n",
    "\n",
    "11. `git stash` (0.25 puntos)\n",
    "\n",
    "El comando `git stash` sirve para guardar temporalmente los cambios realizados pero sin enviarlos al repositorio local, es decir, son cambios en los cuales todavia no se tiene la intención de realizar un `git commit`. Este comando es útil para no perder cambios de los cuales no se esta completamente seguro de oficializar en el repositorio.\n",
    "\n",
    "\n",
    "12. `git reset`. ¿Cuál es la diferencia de este comando con `git revert`?. (0.25 puntos)\n",
    "\n",
    "\n",
    "El comando `git reset` se utiliza para volver al estado de un commit especifico, eliminando de esta forma todos los cambios efectuados desde el commit al cual se quiere regresar hasta el estado actual del código. Por otro lado, `git revert` tambien permite regresar a un commit especifico, pero sin eliminar los cambios efectuados entremedio a diferencia de `git reset`. El comando `git revert` solo elimina los cambios de un commit especifico, sin alterar todo el historial de commits.\n",
    "\n"
   ]
  },
  {
   "cell_type": "markdown",
   "metadata": {},
   "source": [
    "## Parte 2: Creando una presentación personal (1.5 pts)\n",
    "\n",
    "<p align=\"center\">\n",
    "  <img src=\"https://media.tenor.com/arqlNu8gyJYAAAAC/cat-cat-jumping.gif\" width=\"150\">\n",
    "</p>\n",
    "\n"
   ]
  },
  {
   "cell_type": "markdown",
   "metadata": {},
   "source": [
    "Para empezar a \"*soltar las manos*\" con `Git`, se les encomienda crear un repositorio con una presentación personal. El repositorio debe contener un breve resumen de quienes son ustedes, sus gustos, experiencias, y cualquier otro detalle interesante que ustedes consideren relevante. \n",
    "\n",
    "Para realizar esto, deben seguir los siguientes pasos:\n",
    "\n",
    "1. Contar con una cuenta de github (1 por persona)\n",
    "2. Crear un repositorio con su nombre de usuario\n",
    "3. Vincular el repositorio a su ambiente local ¿Qué comando(s) me permiten hacer esto?\n",
    "4. Crear un archivo `readme.md` con la información que ustedes deseen compartir.\n",
    "5. Realizar `push` con los cambios generados\n",
    "\n",
    "A modo de ejemplo, pueden guiarse por esta *suculenta* [presentación](https://github.com/Mezosky)\n",
    "\n",
    "**Nota: Deben trabajar todos estos puntos desde su ambiente local**\n",
    "\n",
    "*Hint: Una buena opción es usar templates de presentación personal que encuentren en Google, como los que ofrece este [sitio](https://durgeshsamariya.github.io/awesome-github-profile-readme-templates/#/)*.\n",
    "\n",
    "**Entregable:**\n",
    "\n",
    "Enlace al repositorio con la presentación personal. \n",
    "\n",
    "IMPORTANTE: DEBEN ADJUNTAR UN ENLACE POR PERSONA"
   ]
  },
  {
   "cell_type": "markdown",
   "metadata": {},
   "source": [
    "<code>Link Presentacion 1:</code> [https://github.com/Zerzer0/zerzer0](https://github.com/Zerzer0/zerzer0)\n",
    "\n",
    "<code>Link Presentacion 2:</code> [https://github.com/Eduardo1179/Eduardo1179](https://github.com/Eduardo1179/Eduardo1179)"
   ]
  },
  {
   "cell_type": "markdown",
   "metadata": {},
   "source": [
    "## Parte 3: Trabajando sobre un repositorio externo (2 pts)\n",
    "\n",
    "<p align=\"center\">\n",
    "  <img src=\"https://media.tenor.com/YXL-0SK15j4AAAAC/dance-animals.gif\" width=\"300\">\n",
    "</p>\n",
    "\n",
    "Tras muchos dolores de cabeza, un grupo de entusiastas académicos decidieron aprender sobre `Git` y así trabajar colaborativamente de forma más ordenada y eficiente. Después de una infinidad de intentos y aprender de sus errores \"*a la mala*\", los académicos lograron levantar un [repositorio](https://github.com/MDS7202/lab1) en `Github`. Usando el repositorio de los académicos, responda las siguientes preguntas (**incluya también los comandos en `Git` ocupados**):\n"
   ]
  },
  {
   "cell_type": "markdown",
   "metadata": {},
   "source": [
    "1. Clone el repositorio a su ambiente local. (0.25 pts)"
   ]
  },
  {
   "cell_type": "markdown",
   "metadata": {},
   "source": [
    "<code>Escriba sus respuestas acá:</code>\n",
    "\n",
    "`git clone https://github.com/MDS7202/lab1`"
   ]
  },
  {
   "cell_type": "markdown",
   "metadata": {},
   "source": [
    "2. Descomprima los archivos subidos con la tarea en U-cursos en la carpeta recién clonada de github. Una vez realizado esto, cree un archivo `.gitignore` con el cual omita la carpeta `videos` y los archivos con la extensión `.txt` exceptuando el archivo `171.txt` de la carpeta `texts`. (0.25 pts)"
   ]
  },
  {
   "cell_type": "markdown",
   "metadata": {},
   "source": [
    "<code>Para esta pregunta usted deberá adjuntar el .gitignore creado en su repo.</code>\n",
    "\n",
    "[Archivo .gitignore](.gitignore)"
   ]
  },
  {
   "cell_type": "markdown",
   "metadata": {},
   "source": [
    "3. Inspeccione brevemente el repositorio: ¿Cual es el objetivo del proyecto? Explique brevemente la estructura del proyecto, asi como también cada elemento que lo conforma. (0.25 pts)"
   ]
  },
  {
   "cell_type": "markdown",
   "metadata": {},
   "source": [
    "<code>Escriba sus respuestas acá:</code>\n",
    "\n",
    "El projecto consiste en emular los sonidos de animales, en el repositorio se encuentra el archivo `animales.py`, el cual consiste en una funcion que recibe una variable `str` y devuelve los textos \"gato\", \"perro\", un [link](https://www.youtube.com/watch?v=jofNR_WkoCE), y \"animal no reconocido :(\", para el caso que las variables sean gato, perro, fox o ninguna de las anteriores, respectivamente. Tambien se encuentra el archivo `main.py` que importa la función del archivo explicado anteriormente, y posee una función que le pide al usuario ingresar el nombre de un animal para luego entregarle esa variable a la función anterior. Por último se tiene el archivo `readme.md` que explica el repositorio."
   ]
  },
  {
   "cell_type": "markdown",
   "metadata": {},
   "source": [
    "4. Identifique los últimos cambios al repositorio, reconociendo las principales ramas de trabajo. ¿Son informativos los `commit` realizados? (0.25 pts)\n",
    "*Hint: Se recomienda usar los argumentos `all`, `graph` y `decorate`*"
   ]
  },
  {
   "cell_type": "markdown",
   "metadata": {},
   "source": [
    "<code>Escriba sus respuestas acá:</code>\n",
    "\n",
    "`git log --all --graph --decorate`\n",
    "\n",
    "Se pueden reconocer las ramas main, new_features y fix-ifs. Respecto a los `commit` se puede ver que no son informativos, en orden de actualización del menos reciente a más reciente se tiene:\n",
    "\n",
    "- \"primer commit\", no se especifica que es lo que se cambia o datos más especificos sobre el commit.\n",
    "- \"se agrega funcion\", no se especifica cual función se agregó ni su objetivo.\n",
    "- \"se separa el proyecto en modulos\", no se especifica los módulos ni para que son cada uno.\n",
    "- \"fix ifs\", no se especifica que fue lo que se arregló, muy conciso."
   ]
  },
  {
   "cell_type": "markdown",
   "metadata": {},
   "source": [
    "5. Uno de los académicos se da cuenta que la rama principal de trabajo no se ejecuta correctamente para todos los argumentos. Señale y explique el error en el código e identifique a la persona que lo cometió usando `git blame` (0.25 pts)\n",
    "\n",
    "*Hint: Le puede ser útil esta [documentación](https://www.atlassian.com/es/git/tutorials/inspecting-a-repository/git-blame).*"
   ]
  },
  {
   "cell_type": "markdown",
   "metadata": {},
   "source": [
    "<code>Escriba sus respuestas acá:</code>\n",
    "\n",
    "Luego de ejecutar `main.py` e ingresar las palabras \"gato\", \"perro\", \"fox\" y \"elefante\", se puede ver que el programa funciona bien para el caso de \"fox\" y \"elefante\", entregando el link y el mensaje de error respectivamente, pero para el caso de \"gato\" y \"perro\" se entrega los resultados \"miau\" y \"guau\", acompañados del mensaje de error para cuando se ingresa un animal no reconocido, este error ocurre porque en la función del archivo `animales.py` se usaron 3 `if`, en debés de 1 `if` y puros `elif` para las demás opciones, esto causó que se ejecutara cada `if` por separado, tirando el mensaje de error al no cumplirse un `if`. Para encontrar los/las involucrados en el error su usa el comando `git blame`, el cual se puede identificar al culpable como \"mezosky\"."
   ]
  },
  {
   "cell_type": "markdown",
   "metadata": {},
   "source": [
    "6. Busque los siguientes `commit`:\n",
    "\n",
    "- `c8b1a62d7299552b0654f930d695b33109214111`\n",
    "- `362fe21ee44f53ee944cee4ba484600308f83d78`\n",
    "- `25543a3baf77292baf849726784ca005473acab1`\n",
    "\n",
    "¿Qué diferencias existen entre cada uno? (0.25 pts)"
   ]
  },
  {
   "cell_type": "markdown",
   "metadata": {},
   "source": [
    "<code>Escriba sus respuestas acá:</code>"
   ]
  },
  {
   "cell_type": "markdown",
   "metadata": {},
   "source": [
    "7. Realice una `merge` de la rama `fix-ifs` con la rama `main` y describa lo que ocurre. ¿Qué parte del código podría estar ocasionando esto? (0.25 pts)"
   ]
  },
  {
   "cell_type": "markdown",
   "metadata": {},
   "source": [
    "<code>Escriba sus respuestas acá:</code>"
   ]
  },
  {
   "cell_type": "markdown",
   "metadata": {},
   "source": [
    "8. Cree una rama nueva y proponga una solución al problema anterior, adjuntando el código corregido y señalando las líneas modificadas. (0.25 pts)"
   ]
  },
  {
   "cell_type": "markdown",
   "metadata": {},
   "source": [
    "<code>Escriba sus respuestas acá:</code>"
   ]
  },
  {
   "cell_type": "markdown",
   "metadata": {},
   "source": [
    "## Fin"
   ]
  },
  {
   "cell_type": "markdown",
   "metadata": {},
   "source": [
    "Eso ha sido todo por ahora!! Esperamos que este laboratorio les haya gustado y servido para trabajar con `Git`. Recuerden los dias de plazo que tienen disponibles y que ante cualquier duda no duden en contactar al equipo docente. \n",
    "\n",
    "Nos vemos!! \n",
    "\n",
    "<p align=\"center\">\n",
    "  <img src=\"https://media.tenor.com/OYLdav9k9LkAAAAd/kitty-cat.gif\" width=\"350\">\n",
    "</p>\n"
   ]
  }
 ],
 "metadata": {
  "kernelspec": {
   "display_name": "mds7202",
   "language": "python",
   "name": "python3"
  },
  "language_info": {
   "name": "python",
   "version": "3.11.4"
  },
  "orig_nbformat": 4
 },
 "nbformat": 4,
 "nbformat_minor": 2
}
