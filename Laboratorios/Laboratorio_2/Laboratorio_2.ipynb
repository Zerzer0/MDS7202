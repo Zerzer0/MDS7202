{
 "cells": [
  {
   "cell_type": "markdown",
   "metadata": {},
   "source": [
    "<h1><center>Laboratorio 2: Primeros pasos 👣</center></h1>\n",
    "\n",
    "<center><strong>MDS7202: Laboratorio de Programación Científica para Ciencia de Datos - Primavera 2023</strong></center>"
   ]
  },
  {
   "cell_type": "markdown",
   "metadata": {},
   "source": [
    "### Cuerpo Docente:\n",
    "\n",
    "- Profesores: Ignacio Meza, Gabriel Iturra\n",
    "- Auxiliar: Sebastián Tinoco\n",
    "- Ayudante: Arturo Lazcano, Angelo Muñoz"
   ]
  },
  {
   "cell_type": "markdown",
   "metadata": {},
   "source": [
    "### Equipo: SUPER IMPORTANTE - notebooks sin nombre no serán revisados\n",
    "\n",
    "- Nombre de alumno 1: Mathias González Espinoza\n",
    "- Nombre de alumno 2: Eduardo Javier Silva Gaete\n"
   ]
  },
  {
   "cell_type": "markdown",
   "metadata": {},
   "source": [
    "### **Link de repositorio de GitHub:** [https://github.com/Zerzer0/MDS7202](https://github.com/Zerzer0/MDS7202)"
   ]
  },
  {
   "cell_type": "markdown",
   "metadata": {},
   "source": [
    "## Reglas:\n",
    "\n",
    "- Fecha de entrega: 6 días desde la publicación, 3 días de atraso con 1 punto de descuento c/u. Pueden utilizar días bonus sin descuento.\n",
    "- **Grupos de 2 personas**\n",
    "- Asistencia **obligatoria** a instrucciones del lab (viernes 16.15). Luego, pueden quedarse trabajando en las salas o irse.\n",
    "- **Ausentes tienen nota máxima 6.0**. \n",
    "- Cualquier duda fuera del horario de clases al foro. Mensajes al equipo docente serán respondidos por este medio.\n",
    "- Prohibidas las copias. \n",
    "- Pueden usar cualquer material del curso que estimen conveniente."
   ]
  },
  {
   "cell_type": "markdown",
   "metadata": {},
   "source": [
    "\n",
    "## Objetivos del lab:\n",
    "\n",
    "Poner en práctica los tópicos básicos del lenguaje de programación Python vistos en clases.\n",
    "\n",
    "- Variables, Operadores y Expresiones.\n",
    "- Estructuras de Control (if/else).\n",
    "- Iteraciones.\n",
    "- Listas y Diccionarios.\n",
    "- Funciones\n",
    "- Programación Orientada a Objetos (Encapsulamiento, Polimorfismo y Herencia)"
   ]
  },
  {
   "cell_type": "markdown",
   "metadata": {},
   "source": [
    "## Parte 1: 🍋 Frutas 🍓 [2.5 puntos]\n",
    "\n",
    "\n",
    "<div align='center'>\n",
    "<img src='https://upload.wikimedia.org/wikipedia/commons/a/a2/Berries_in_Berlin.jpg' width=600/>\n",
    "</div>"
   ]
  },
  {
   "cell_type": "markdown",
   "metadata": {},
   "source": [
    "Defina las siguientes frutas como diccionarios a partir de sus características (nombre, color, tipo y si posee o no pepas):\n",
    "\n",
    "| Nombre    | Tipo     | Color    | Pepas |\n",
    "|-----------|----------|----------|-------|\n",
    "| limon     | cítrica  | amarillo | True  |\n",
    "| naranja   | cítrica  | naranjo  | True  |\n",
    "| plátano   | tropical | amarillo | False |\n",
    "| piña      | tropical | amarillo | False |\n",
    "| frutilla  | bosque   | rojo     | True |\n",
    "| frambuesa | bosque   | rojo     | True |"
   ]
  },
  {
   "cell_type": "markdown",
   "metadata": {},
   "source": [
    "### Estructurar Datos [0.5 puntos]\n",
    "\n",
    "Agregue Piña, Frutilla y Frambuesa como diccionarios (siga los ejemplos de las frutas dadas) y luego cree una lista que contenga estas frutas.\n"
   ]
  },
  {
   "cell_type": "code",
   "execution_count": 12,
   "metadata": {},
   "outputs": [],
   "source": [
    "limon = {\n",
    "    \"nombre\": \"limón\", \n",
    "    \"tipo\": \"cítrica\", \n",
    "    \"color\": \"amarillo\", \n",
    "    \"pepas\": True\n",
    "    }\n",
    "\n",
    "naranja = {\"nombre\": \"naranja\", \n",
    "           \"tipo\": \"cítrica\", \n",
    "           \"color\": \"naranjo\", \n",
    "           \"pepas\": True\n",
    "          }\n",
    "\n",
    "platano = {\"nombre\": \"plátano\", \n",
    "           \"tipo\": \"tropical\", \n",
    "           \"color\": \"amarillo\", \n",
    "           \"pepas\": False\n",
    "          }\n",
    "\n",
    "          \n",
    "# agregar las frutas que faltan aquí\n",
    "\n",
    "piña = {\"nombre\": \"piña\", \n",
    "        \"tipo\": \"tropical\", \n",
    "        \"color\": \"amarillo\", \n",
    "        \"pepas\": False\n",
    "        }\n",
    "\n",
    "frutilla = {\"nombre\": \"frutilla\", \n",
    "           \"tipo\": \"bosque\", \n",
    "           \"color\": \"rojo\", \n",
    "           \"pepas\": True\n",
    "            }\n",
    "\n",
    "frambuesa = {\"nombre\": \"frambuesa\", \n",
    "            \"tipo\": \"bosque\", \n",
    "            \"color\": \"rojo\", \n",
    "            \"pepas\": True\n",
    "            }"
   ]
  },
  {
   "cell_type": "markdown",
   "metadata": {},
   "source": [
    "Ahora, agregue todas las frutas a una lista."
   ]
  },
  {
   "cell_type": "code",
   "execution_count": 35,
   "metadata": {},
   "outputs": [],
   "source": [
    "# Ojo: agregue los datos en el mismo orden que aparecen en la tabla\n",
    "datos = [limon, naranja, platano, piña, frutilla, frambuesa]"
   ]
  },
  {
   "cell_type": "code",
   "execution_count": 9,
   "metadata": {},
   "outputs": [
    {
     "data": {
      "text/plain": [
       "'cítrica'"
      ]
     },
     "execution_count": 9,
     "metadata": {},
     "output_type": "execute_result"
    }
   ],
   "source": []
  },
  {
   "cell_type": "markdown",
   "metadata": {},
   "source": [
    "Esta lista será la información con la que se trabajará durante el lab."
   ]
  },
  {
   "cell_type": "markdown",
   "metadata": {},
   "source": [
    "### Funciones Aplicadas a los Datos [2.0 puntos]\n",
    "\n",
    "En esta sección se les pide generar una serie de funciones que cumplan diferentes propósitos. Un aspecto clave de la programación funcional es la apropiada **documentación** de lo que ustedes generen. Si bien existen diferentes formas de documentar código, una de las mas usadas es el formato docstring de `numpy`:\n",
    "\n",
    "```python\n",
    "# manual para describir:\n",
    "# https://numpydoc.readthedocs.io/en/latest/format.html\n",
    "\n",
    "# plantilla (agregar todos los argumentos que sean necesarios)\n",
    "# pensar _type_ como los tipos básicos que hemos visto hasta ahora: int, float, string, list, dict, tuple, set, etc...\n",
    "\n",
    "def funcion_generica(arg1, arg2):\n",
    "    \"\"\"_summary_\n",
    "\n",
    "    Parameters\n",
    "    ----------\n",
    "    arg1 : _type_\n",
    "        _description_\n",
    "    arg2 : _type_\n",
    "        _description_\n",
    "\n",
    "    Returns\n",
    "    -------\n",
    "    _type_\n",
    "        _description_\n",
    "    \"\"\"\n",
    "    return ...\n",
    "```\n"
   ]
  },
  {
   "cell_type": "markdown",
   "metadata": {},
   "source": [
    "Considerando esto y **sin olvidar la documentación**, se les pide generar las siguientes funciones:\n",
    "\n",
    "**1. La función `generar_descripcion(fruta)` que reciba una fruta genere una descripción de la fruta de la siguiente manera:**\n",
    "\n",
    "```{El/La} {...} es una fruta de tipo {...} de color {...}. {Presenta/No presenta} pepas en su interior.```\n",
    "    \n",
    "Por ejemplo, `generar_descripcion(plátano)` debe generar el siguiente string:\n",
    "    \n",
    "```\n",
    "'El plátano es una fruta de tipo tropical de color amarillo. No presenta pepas en su interior.'\n",
    "```\n",
    "    \n",
    "Indicaciones: \n",
    "- Usen formateo o suma de strings, if, else y for.\n",
    "- Para saber si ocupar 'El' o 'La', pueden acceder al nombre de la fruta y ver cual es el último carácter a través de indexadores `string[indice]`.\n",
    "- Utilice los siguientes test para corroborar el funcionamiento de su código:\n",
    "\n",
    "```python\n",
    "assert generar_descripcion(limon) == \"El limón es una fruta de tipo cítrica de color amarillo. Presenta pepas en su interior.\"\n",
    "assert generar_descripcion(naranja) == \"La naranja es una fruta de tipo cítrica de color naranjo. Presenta pepas en su interior.\"\n",
    "assert generar_descripcion(platano) == \"El plátano es una fruta de tipo tropical de color amarillo. No presenta pepas en su interior.\"\n",
    "assert generar_descripcion(piña) == \"La piña es una fruta de tipo tropical de color amarillo. No presenta pepas en su interior.\"\n",
    "assert generar_descripcion(frutilla) == \"La frutilla es una fruta de tipo bosque de color rojo. Presenta pepas en su interior.\"\n",
    "assert generar_descripcion(frambuesa) == \"La frambuesa es una fruta de tipo bosque de color rojo. Presenta pepas en su interior.\"\n",
    "```"
   ]
  },
  {
   "cell_type": "code",
   "execution_count": 3,
   "metadata": {},
   "outputs": [
    {
     "name": "stdout",
     "output_type": "stream",
     "text": [
      "[{'nombre': 'limón', 'tipo': 'cítrica', 'color': 'amarillo', 'pepas': True}, {'nombre': 'naranja', 'tipo': 'cítrica', 'color': 'naranjo', 'pepas': True}, {'nombre': 'plátano', 'tipo': 'tropical', 'color': 'amarillo', 'pepas': False}, {'nombre': 'piña', 'tipo': 'tropical', 'color': 'amarillo', 'pepas': False}, {'nombre': 'frutilla', 'tipo': 'bosque', 'color': 'rojo', 'pepas': True}, {'nombre': 'frambuesa', 'tipo': 'bosque', 'color': 'rojo', 'pepas': True}]\n",
      "{'nombre': 'limón', 'tipo': 'cítrica', 'color': 'amarillo', 'pepas': True}\n"
     ]
    }
   ],
   "source": [
    "print(datos)\n",
    "print(datos[0])"
   ]
  },
  {
   "cell_type": "code",
   "execution_count": 4,
   "metadata": {},
   "outputs": [],
   "source": [
    "def generar_descripcion(fruta):\n",
    "    \"\"\"_summary_\n",
    "\n",
    "    Parameters\n",
    "    ----------\n",
    "    fruta : dict\n",
    "        Diccionario que contiene las caracteristicas de la fruta.\n",
    "\n",
    "    Returns\n",
    "    -------\n",
    "    str\n",
    "        Texto que entrega una descripción de la fruta según sus caracteristicas.\n",
    "    \"\"\"\n",
    "\n",
    "    if fruta['nombre'][-1] in ['a', 'e', 'i']:\n",
    "        texto_pronombre = 'La'\n",
    "    else:\n",
    "        texto_pronombre = 'El'\n",
    "\n",
    "    if fruta['pepas'] == True:\n",
    "        texto_pepas = \"Presenta\"\n",
    "    else:\n",
    "        texto_pepas = \"No presenta\"\n",
    "\n",
    "    descripcion = f\"{texto_pronombre} {fruta['nombre']} es una fruta de tipo {fruta['tipo']} de color {fruta['color']}. {texto_pepas} pepas en su interior.\"\n",
    "    return descripcion"
   ]
  },
  {
   "cell_type": "code",
   "execution_count": 5,
   "metadata": {},
   "outputs": [],
   "source": [
    "assert generar_descripcion(limon) == \"El limón es una fruta de tipo cítrica de color amarillo. Presenta pepas en su interior.\"\n",
    "assert generar_descripcion(naranja) == \"La naranja es una fruta de tipo cítrica de color naranjo. Presenta pepas en su interior.\"\n",
    "assert generar_descripcion(platano) == \"El plátano es una fruta de tipo tropical de color amarillo. No presenta pepas en su interior.\"\n",
    "assert generar_descripcion(piña) == \"La piña es una fruta de tipo tropical de color amarillo. No presenta pepas en su interior.\"\n",
    "assert generar_descripcion(frutilla) == \"La frutilla es una fruta de tipo bosque de color rojo. Presenta pepas en su interior.\"\n",
    "assert generar_descripcion(frambuesa) == \"La frambuesa es una fruta de tipo bosque de color rojo. Presenta pepas en su interior.\""
   ]
  },
  {
   "cell_type": "markdown",
   "metadata": {},
   "source": [
    "**2. La función `describir(datos)` que generalice la función `generar_descripcion` para recibir una lista de frutas y devolver una lista con las descripciones de cada una:**\n",
    "\n",
    "Por ejemplo, `describir([limon, naranja]])` deberá devolver una lista de la forma `[descripcion_limon, descripcion_naranja]`"
   ]
  },
  {
   "cell_type": "code",
   "execution_count": 6,
   "metadata": {},
   "outputs": [],
   "source": [
    "def describir(datos):\n",
    "    \"\"\"_summary_\n",
    "\n",
    "    Parameters\n",
    "    ----------\n",
    "    datos : list\n",
    "        Lista que contiene los diccionarios de las frutas.\n",
    "\n",
    "    Returns\n",
    "    -------\n",
    "    list\n",
    "        Lista con la descripcion de las frutas ingresadas como argumento.\n",
    "    \"\"\"\n",
    "\n",
    "    descripciones = []\n",
    "    for fruta in datos:\n",
    "        if fruta['nombre'][-1] in ['a', 'e', 'i']:\n",
    "            texto_pronombre = 'La'\n",
    "        else:\n",
    "            texto_pronombre = 'El'\n",
    "\n",
    "        if fruta['pepas'] == True:\n",
    "            texto_pepas = \"Presenta\"\n",
    "        else:\n",
    "            texto_pepas = \"No presenta\"\n",
    "\n",
    "        descripcion = f\"{texto_pronombre} {fruta['nombre']} es una fruta de tipo {fruta['tipo']} de color {fruta['color']}. {texto_pepas} pepas en su interior.\"\n",
    "        descripciones.append(descripcion)\n",
    "    return descripciones"
   ]
  },
  {
   "cell_type": "code",
   "execution_count": 7,
   "metadata": {},
   "outputs": [
    {
     "data": {
      "text/plain": [
       "['El limón es una fruta de tipo cítrica de color amarillo. Presenta pepas en su interior.',\n",
       " 'La naranja es una fruta de tipo cítrica de color naranjo. Presenta pepas en su interior.']"
      ]
     },
     "execution_count": 7,
     "metadata": {},
     "output_type": "execute_result"
    }
   ],
   "source": [
    "describir([limon, naranja])"
   ]
  },
  {
   "cell_type": "markdown",
   "metadata": {},
   "source": [
    "**3. La función `filtrar_por_pepa(datos, tiene_pepas)` que dado un tipo de fruta y un booleano, retorne las frutas que tienen o no tienen pepas (según el valor de `tiene_pepas`).**\n",
    "    \n",
    "\n",
    "Por ejemplo, `filtrar_por_pepa(datos, True)` deberá retornar una lista con los diccionarios de: naranja, limon, frutilla y frambuesa."
   ]
  },
  {
   "cell_type": "code",
   "execution_count": 8,
   "metadata": {},
   "outputs": [],
   "source": [
    "def filtrar_por_pepa(datos, tiene_pepas):\n",
    "    \"\"\"_summary_\n",
    "\n",
    "    Parameters\n",
    "    ----------\n",
    "    datos : list\n",
    "        Lista que contiene los diccionarios de las frutas.\n",
    "    tiene_pepas : bool\n",
    "        Booleano que definira si se quieren frutas con pepas o sin pepas.\n",
    "\n",
    "    Returns\n",
    "    -------\n",
    "    list\n",
    "        Lista con los diccionarios de las frutas filtradas.\n",
    "    \"\"\"\n",
    "\n",
    "    filtrados = []\n",
    "    for fruta in datos:\n",
    "        if fruta['pepas'] == tiene_pepas:\n",
    "            filtrados.append(fruta)\n",
    "    return filtrados"
   ]
  },
  {
   "cell_type": "code",
   "execution_count": 9,
   "metadata": {},
   "outputs": [
    {
     "data": {
      "text/plain": [
       "[{'nombre': 'limón', 'tipo': 'cítrica', 'color': 'amarillo', 'pepas': True},\n",
       " {'nombre': 'naranja', 'tipo': 'cítrica', 'color': 'naranjo', 'pepas': True},\n",
       " {'nombre': 'frutilla', 'tipo': 'bosque', 'color': 'rojo', 'pepas': True},\n",
       " {'nombre': 'frambuesa', 'tipo': 'bosque', 'color': 'rojo', 'pepas': True}]"
      ]
     },
     "execution_count": 9,
     "metadata": {},
     "output_type": "execute_result"
    }
   ],
   "source": [
    "filtrar_por_pepa(datos, True)"
   ]
  },
  {
   "cell_type": "markdown",
   "metadata": {},
   "source": [
    "**4. La función `conteo_colores(datos)` que cree un diccionario que haga un conteo los colores de las frutas.**\n",
    "\n",
    "Para estos datos, la función debería retornar el siguiente diccionario: \n",
    "    \n",
    "```python\n",
    "{\"amarillo\": 3, \"naranjo\": 1, \"rojo\": 2}\n",
    "```"
   ]
  },
  {
   "cell_type": "code",
   "execution_count": 10,
   "metadata": {},
   "outputs": [],
   "source": [
    "def conteo_colores(datos):\n",
    "    \"\"\"_summary_\n",
    "\n",
    "    Parameters\n",
    "    ----------\n",
    "    datos : list\n",
    "        Lista que contiene los diccionarios de las frutas.\n",
    "\n",
    "    Returns\n",
    "    -------\n",
    "    dict\n",
    "        Diccionario que contiene los colores de las frutas y su conteo.\n",
    "    \"\"\"\n",
    "\n",
    "    colores = []\n",
    "    conteo = {}\n",
    "    \n",
    "    #Se crea lista con todos los colores de las frutas y se crea el diccionario que contendrá el conteo.\n",
    "    for fruta in datos:\n",
    "        if fruta['color'] not in colores:\n",
    "            colores.append(fruta['color'])\n",
    "            conteo[(fruta['color'])] = 0\n",
    "    #Se itera sobre la lista y se hace conteo de los colores de las frutas.\n",
    "    for fruta in datos:\n",
    "        if fruta['color'] in colores:\n",
    "            conteo[(fruta['color'])] += 1\n",
    "    return conteo"
   ]
  },
  {
   "cell_type": "code",
   "execution_count": 11,
   "metadata": {},
   "outputs": [
    {
     "data": {
      "text/plain": [
       "{'amarillo': 3, 'naranjo': 1, 'rojo': 2}"
      ]
     },
     "execution_count": 11,
     "metadata": {},
     "output_type": "execute_result"
    }
   ],
   "source": [
    "conteo_colores(datos)"
   ]
  },
  {
   "cell_type": "markdown",
   "metadata": {},
   "source": [
    "**5. La función `obtener_tipos` que devuelva una lista con los tipos únicos de fruta usando `set()`**.\n",
    "\n",
    "Por ejemplo, `obtener_tipos([limon, naranja, platano])` debería devolver `[\"citrica\", \"tropical\"]`"
   ]
  },
  {
   "cell_type": "code",
   "execution_count": 20,
   "metadata": {},
   "outputs": [],
   "source": [
    "def obtener_tipos(datos):\n",
    "    \"\"\"_summary_\n",
    "\n",
    "    Parameters\n",
    "    ----------\n",
    "    datos : list\n",
    "        Lista que contiene los diccionarios de las frutas.\n",
    "\n",
    "    Returns\n",
    "    -------\n",
    "    tipos\n",
    "        Lista que contiene los tipos unicos del conjunto de frutas entregado.\n",
    "    \"\"\"\n",
    "    # Código Aquí\n",
    "    tipos=[]\n",
    "    for fruta in datos:\n",
    "        tipos.append(fruta[\"tipo\"])\n",
    "    \n",
    "\n",
    "    \n",
    "        \n",
    "    tipos = list(set(tipos))\n",
    "    tipos.sort()\n",
    "    return tipos"
   ]
  },
  {
   "cell_type": "code",
   "execution_count": 22,
   "metadata": {},
   "outputs": [
    {
     "data": {
      "text/plain": [
       "['bosque', 'cítrica', 'tropical']"
      ]
     },
     "execution_count": 22,
     "metadata": {},
     "output_type": "execute_result"
    }
   ],
   "source": [
    "obtener_tipos(datos)"
   ]
  },
  {
   "cell_type": "markdown",
   "metadata": {},
   "source": [
    "**6. Genere tres test para cada una de las funciones de la pregunta 5 y así comprobar que funcionan correctamente.**\n",
    "\n",
    "Se <u>sugiere</u> que se apoyen en las siguientes directrices: \n",
    "- Test para tratar resultados nulos\n",
    "- Test para un subconjunto interesante cuyo resultado no sea nulo\n",
    "- Test para todos los datos"
   ]
  },
  {
   "cell_type": "markdown",
   "metadata": {},
   "source": [
    "**Ejecuten esta celda para comprobar su código:**"
   ]
  },
  {
   "cell_type": "code",
   "execution_count": 23,
   "metadata": {},
   "outputs": [],
   "source": [
    "lista_vacia=[]\n",
    "# ---------------------------------------------------------------------\n",
    "# test descripciones\n",
    "\n",
    "assert describir([limon, naranja]) == ['El limón es una fruta de tipo cítrica de color amarillo. Presenta pepas en su interior.',\n",
    " 'La naranja es una fruta de tipo cítrica de color naranjo. Presenta pepas en su interior.'] # test 1\n",
    "assert describir(datos) == ['El limón es una fruta de tipo cítrica de color amarillo. Presenta pepas en su interior.',\n",
    " 'La naranja es una fruta de tipo cítrica de color naranjo. Presenta pepas en su interior.',\n",
    " 'El plátano es una fruta de tipo tropical de color amarillo. No presenta pepas en su interior.',\n",
    " 'La piña es una fruta de tipo tropical de color amarillo. No presenta pepas en su interior.',\n",
    " 'La frutilla es una fruta de tipo bosque de color rojo. Presenta pepas en su interior.',\n",
    " 'La frambuesa es una fruta de tipo bosque de color rojo. Presenta pepas en su interior.'] # test 2\n",
    "assert describir(lista_vacia) == []  # test 3\n",
    "\n",
    "\n",
    "# ---------------------------------------------------------------------\n",
    "# test filtro\n",
    "\n",
    "assert filtrar_por_pepa([limon, naranja], True) == [{'nombre': 'limón', 'tipo': 'cítrica', 'color': 'amarillo', 'pepas': True},\n",
    " {'nombre': 'naranja', 'tipo': 'cítrica', 'color': 'naranjo', 'pepas': True}] # test 1\n",
    "assert filtrar_por_pepa(datos, False) == [{'nombre': 'plátano',\n",
    "  'tipo': 'tropical',\n",
    "  'color': 'amarillo',\n",
    "  'pepas': False},\n",
    " {'nombre': 'piña', 'tipo': 'tropical', 'color': 'amarillo', 'pepas': False}] # test 2 \n",
    "assert filtrar_por_pepa([], True) == [] # test 3\n",
    "\n",
    "\n",
    "# ---------------------------------------------------------------------\n",
    "# test conteo\n",
    "\n",
    "assert conteo_colores([limon, naranja]) == {'amarillo': 1, 'naranjo': 1} # test 1\n",
    "assert conteo_colores(datos) == {'amarillo': 3, 'naranjo': 1, 'rojo': 2} # test 2\n",
    "assert conteo_colores(lista_vacia) == {} # test 3\n",
    "\n",
    "\n",
    "# ---------------------------------------------------------------------\n",
    "# test tipos\n",
    "\n",
    "assert obtener_tipos([limon, naranja]) == ['cítrica']  # test 1\n",
    "assert obtener_tipos(datos) == ['bosque', 'cítrica', 'tropical'] # test 2\n",
    "assert obtener_tipos(lista_vacia) == [] # test 3\n"
   ]
  },
  {
   "cell_type": "markdown",
   "metadata": {},
   "source": [
    "**7. Programe nuevamente las funciones `describir`, `filtrar_por_pepa` y `obtener_tipos`, pero esta vez usando *comprehensions*.**\n",
    "\n",
    "*Hint: Pueden reutilizar la documentación escrita en la pregunta 5*"
   ]
  },
  {
   "cell_type": "code",
   "execution_count": 48,
   "metadata": {},
   "outputs": [],
   "source": [
    "\n",
    "\n",
    "def obtener_descripciones_v2(datos):\n",
    "    \"\"\"_summary_\n",
    "\n",
    "    Parameters\n",
    "    ----------\n",
    "    datos : list\n",
    "        Lista que contiene los diccionarios de las frutas.\n",
    "\n",
    "    Returns\n",
    "    -------\n",
    "    list\n",
    "        Lista con la descripcion de las frutas ingresadas como argumento.\n",
    "    \"\"\"\n",
    "\n",
    "    descripciones = [\n",
    "    f\"{'La' if fruta['nombre'][-1] in ['a', 'e', 'i'] else 'El'} {fruta['nombre']} es una fruta de tipo {fruta['tipo']} de color {fruta['color']}. {'Presenta' if fruta['pepas'] else 'No presenta'} pepas en su interior.\"\n",
    "    for fruta in datos\n",
    "    ]\n",
    "\n",
    "    return descripciones\n",
    "\n",
    "\n",
    "\n",
    "\n",
    "def filtrar_por_pepa_v2(datos, tiene_pepas):\n",
    "    \"\"\"_summary_\n",
    "\n",
    "    Parameters\n",
    "    ----------\n",
    "    datos : list\n",
    "        Lista que contiene los diccionarios de las frutas.\n",
    "    tiene_pepas : bool\n",
    "        Booleano que definira si se quieren frutas con pepas o sin pepas.\n",
    "\n",
    "    Returns\n",
    "    -------\n",
    "    list\n",
    "        Lista con los diccionarios de las frutas filtradas.\n",
    "    \"\"\"\n",
    "\n",
    "   \n",
    "    \n",
    "    filtrados = [fruta for fruta in datos if fruta[\"pepas\"] == tiene_pepas]\n",
    "\n",
    "\n",
    "    return filtrados  \n",
    "\n",
    "def obtener_tipos_v2(datos):\n",
    "    \"\"\"_summary_\n",
    "\n",
    "    Parameters\n",
    "    ----------\n",
    "    datos : list\n",
    "        Lista que contiene los diccionarios de las frutas.\n",
    "\n",
    "    Returns\n",
    "    -------\n",
    "    tipos\n",
    "        Lista que contiene los tipos unicos del conjunto de frutas entregado.\n",
    "    \"\"\"\n",
    "    # Código Aquí\n",
    "    \n",
    "    tipos = [fruta[\"tipo\"] for fruta in datos]\n",
    "\n",
    "    \n",
    "        \n",
    "    tipos = list(set(tipos))\n",
    "    return tipos\n",
    "\n",
    "\n",
    "\n"
   ]
  },
  {
   "cell_type": "code",
   "execution_count": 49,
   "metadata": {},
   "outputs": [
    {
     "data": {
      "text/plain": [
       "['El limón es una fruta de tipo cítrica de color amarillo. Presenta pepas en su interior.',\n",
       " 'La naranja es una fruta de tipo cítrica de color naranjo. Presenta pepas en su interior.',\n",
       " 'El plátano es una fruta de tipo tropical de color amarillo. No presenta pepas en su interior.',\n",
       " 'La piña es una fruta de tipo tropical de color amarillo. No presenta pepas en su interior.',\n",
       " 'La frutilla es una fruta de tipo bosque de color rojo. Presenta pepas en su interior.',\n",
       " 'La frambuesa es una fruta de tipo bosque de color rojo. Presenta pepas en su interior.']"
      ]
     },
     "execution_count": 49,
     "metadata": {},
     "output_type": "execute_result"
    }
   ],
   "source": [
    "obtener_descripciones_v2(datos)"
   ]
  },
  {
   "cell_type": "code",
   "execution_count": 47,
   "metadata": {},
   "outputs": [
    {
     "data": {
      "text/plain": [
       "[{'nombre': 'plátano',\n",
       "  'tipo': 'tropical',\n",
       "  'color': 'amarillo',\n",
       "  'pepas': False},\n",
       " {'nombre': 'piña', 'tipo': 'tropical', 'color': 'amarillo', 'pepas': False}]"
      ]
     },
     "execution_count": 47,
     "metadata": {},
     "output_type": "execute_result"
    }
   ],
   "source": [
    "filtrar_por_pepa_v2(datos, False)\n"
   ]
  },
  {
   "cell_type": "code",
   "execution_count": 38,
   "metadata": {},
   "outputs": [
    {
     "data": {
      "text/plain": [
       "['bosque', 'cítrica']"
      ]
     },
     "execution_count": 38,
     "metadata": {},
     "output_type": "execute_result"
    }
   ],
   "source": [
    "obtener_tipos_v2( [limon, frambuesa])"
   ]
  },
  {
   "cell_type": "markdown",
   "metadata": {},
   "source": [
    "## Parte 2: Electrodomésticos [2.5 puntos]\n",
    "\n",
    "En esta parte se solicitarán un par de clases que permitirá jugar con la Programación Orientada a Objetos.\n",
    "\n",
    "<div align='center'>\n",
    "<img src='https://upload.wikimedia.org/wikipedia/commons/6/67/Breville.jpg' width=400/>\n",
    "</div>\n",
    "\n",
    "\n",
    "### Clase Electrodoméstico [0.5 puntos]\n",
    "\n",
    "Defina la clase `Electrodomestico` que implemente:\n",
    "\n",
    "\n",
    "- Un constructor que defina un atributo de instancia llamado `enchufado` que almacene valores booleanos. \n",
    "- Un método llamado `esta_enchufado(self)` que levante una excepción `Exception` y que termine con la ejecución del programa cuando el atributo enchufado sea `False`. La excepción debe levantar el mensaje `'Alerta ⚠️: El electrodoméstico no está enchufado'`\n",
    "- Un método llamado `enchufar(self)` que cambia el estado de `enchufado` a True.\n",
    "\n"
   ]
  },
  {
   "cell_type": "code",
   "execution_count": 1,
   "metadata": {},
   "outputs": [],
   "source": [
    "class Electrodomestico:\n",
    "    \n",
    "    def __init__(self):\n",
    "      self.enchufado = False\n",
    "        \n",
    "    def esta_enchufado(self):\n",
    "      if not self.enchufado:\n",
    "        raise Exception('Alerta ⚠️: El electrodoméstico no está enchufado')\n",
    "            \n",
    "    def enchufar(self):\n",
    "      self.enchufado = True"
   ]
  },
  {
   "cell_type": "markdown",
   "metadata": {},
   "source": [
    "### Clase Jugera [1.0 puntos] \n",
    "\n",
    "\n",
    "<div align='center'>\n",
    "<img src='https://upload.wikimedia.org/wikipedia/commons/b/bb/Liquadora_%28parts%29.JPG' width=400/>\n",
    "</div>\n",
    "\n",
    "\n",
    "Implemente la clase `Jugera` que extiende `Electrodomestico` y que implemente: \n",
    "\n",
    "\n",
    "- Un constructor que tenga una lista de ingredientes frutales (llamado `bandeja`).\n",
    "\n",
    "\n",
    "- Un método llamado `agregar_ingrediente(self, nueva_fruta)` que dado una fruta, agregue esa fruta a la `bandeja`.\n",
    "\n",
    "- Un método llamado `listar_ingredientes(self)` que imprima (con `print`) los ingredientes actuales de la `bandeja` de la siguiente forma: \n",
    "\n",
    "    `Ingredientes en la bandeja: frutilla, frambuesa, piña.`\n",
    "\n",
    "De lo contrario si no tiene ingredientes imprima:\n",
    "\n",
    "    `Bandeja vacía`\n",
    "\n",
    "\n",
    "**Hint:** Investigar el método `join` de un string para generar el string con los nombres de las frutas.\n",
    "    \n",
    "    \n",
    "    \n",
    "\n",
    "- Un método llamado `preparar_jugo(self)` que: \n",
    "    - Primero verifique que el electrodoméstico esté enchufado usando `self.esta_enchufado()`.\n",
    "    - Verifique que haya por lo menos un ingrediente en la `bandeja`. En el caso que no haya, levantar una excepción con contenido `'Error ❌: La bandeja no tiene ingredientes.'`\n",
    "    - Verifique que ninguna fruta tenga pepas. En el caso que haya alguna, imprimir (con `print`) el mensaje de advertencia `'Alerta ⚠️: El jugo puede contener restos de pepas.'`. Puede usar la función definida en la sección anterior.\n",
    "    - Genere un mensaje indicado `Jugo de {nombres de las frutas separadas por una ,} listo. 🏖️🥤 Que lo disfrutes!!! 🥤🏖️. ` (Hint: Usar nuevamente `join`).\n",
    "    - Vacie la `bandeja` (es decir, eliminar todas las frutas de la bandeja).\n",
    "    - Retorne el mensaje generado.\n"
   ]
  },
  {
   "cell_type": "code",
   "execution_count": 36,
   "metadata": {},
   "outputs": [],
   "source": [
    "class Jugera(Electrodomestico):\n",
    "    \n",
    "    def __init__(self):\n",
    "        super().__init__()\n",
    "        self.bandeja = []\n",
    "        \n",
    "    def agregar_ingrediente(self, nueva_fruta):\n",
    "        self.bandeja.append(nueva_fruta)\n",
    "     \n",
    "    def listar_ingredientes(self):\n",
    "        if self.bandeja == []:\n",
    "            print(\"Bandeja vacia\")\n",
    "        else:\n",
    "            nombres = []\n",
    "            for fruta in self.bandeja:\n",
    "                nombres.append(fruta['nombre'])\n",
    "            elementos_bandeja = \", \".join(nombres)\n",
    "            print(f\"Ingredientes en la bandeja: {elementos_bandeja}\")\n",
    "    \n",
    "    def preparar_jugo(self):\n",
    "        self.esta_enchufado()\n",
    "\n",
    "        if self.bandeja == []:\n",
    "            raise Exception('Error ❌: La bandeja no tiene ingredientes.')\n",
    "\n",
    "        for fruta in self.bandeja:\n",
    "            if fruta['pepas'] == True:\n",
    "                print(\"Alerta ⚠️: El jugo puede contener restos de pepas.\")\n",
    "                break\n",
    "        \n",
    "        nombres = []\n",
    "        for fruta in self.bandeja:\n",
    "            nombres.append(fruta['nombre'])\n",
    "        elementos_jugo = \", \".join(nombres)\n",
    "        mensaje = print(f\"Jugo de {elementos_jugo} listo. 🏖️🥤 Que lo disfrutes!!! 🥤🏖️.\")\n",
    "\n",
    "        self.bandeja = []        \n",
    "        \n",
    "        return mensaje"
   ]
  },
  {
   "cell_type": "markdown",
   "metadata": {},
   "source": [
    "### Interacciones\n",
    "\n",
    "Las siguientes celdas les permitirán probar las interacciones de esta clase.\n",
    "La ejecución es solo referencial y no lleva puntaje. La idea es que la utilice como guía para desarrollar la clase."
   ]
  },
  {
   "cell_type": "code",
   "execution_count": 23,
   "metadata": {},
   "outputs": [
    {
     "name": "stdout",
     "output_type": "stream",
     "text": [
      "Bandeja vacia\n"
     ]
    }
   ],
   "source": [
    "jugera = Jugera()\n",
    "\n",
    "# Como no tenemos ingredientes, listar_ingredientes deberá imprimir 'Bandeja vacía'\n",
    "jugera.listar_ingredientes()"
   ]
  },
  {
   "cell_type": "code",
   "execution_count": 24,
   "metadata": {},
   "outputs": [
    {
     "ename": "Exception",
     "evalue": "Alerta ⚠️: El electrodoméstico no está enchufado",
     "output_type": "error",
     "traceback": [
      "\u001b[1;31m---------------------------------------------------------------------------\u001b[0m",
      "\u001b[1;31mException\u001b[0m                                 Traceback (most recent call last)",
      "Cell \u001b[1;32mIn[24], line 2\u001b[0m\n\u001b[0;32m      1\u001b[0m \u001b[39m# Esta celda debería levantar una excepcion indicando que no está enchufada la jugera.\u001b[39;00m\n\u001b[1;32m----> 2\u001b[0m jugera\u001b[39m.\u001b[39;49mpreparar_jugo()\n",
      "Cell \u001b[1;32mIn[22], line 21\u001b[0m, in \u001b[0;36mJugera.preparar_jugo\u001b[1;34m(self)\u001b[0m\n\u001b[0;32m     20\u001b[0m \u001b[39mdef\u001b[39;00m \u001b[39mpreparar_jugo\u001b[39m(\u001b[39mself\u001b[39m):\n\u001b[1;32m---> 21\u001b[0m     \u001b[39mself\u001b[39;49m\u001b[39m.\u001b[39;49mesta_enchufado()\n\u001b[0;32m     23\u001b[0m     \u001b[39mif\u001b[39;00m \u001b[39mself\u001b[39m\u001b[39m.\u001b[39mbandeja \u001b[39m==\u001b[39m []:\n\u001b[0;32m     24\u001b[0m         \u001b[39mraise\u001b[39;00m \u001b[39mException\u001b[39;00m(\u001b[39m'\u001b[39m\u001b[39mError ❌: La bandeja no tiene ingredientes.\u001b[39m\u001b[39m'\u001b[39m)\n",
      "Cell \u001b[1;32mIn[21], line 8\u001b[0m, in \u001b[0;36mElectrodomestico.esta_enchufado\u001b[1;34m(self)\u001b[0m\n\u001b[0;32m      6\u001b[0m \u001b[39mdef\u001b[39;00m \u001b[39mesta_enchufado\u001b[39m(\u001b[39mself\u001b[39m):\n\u001b[0;32m      7\u001b[0m   \u001b[39mif\u001b[39;00m \u001b[39mnot\u001b[39;00m \u001b[39mself\u001b[39m\u001b[39m.\u001b[39menchufado:\n\u001b[1;32m----> 8\u001b[0m     \u001b[39mraise\u001b[39;00m \u001b[39mException\u001b[39;00m(\u001b[39m'\u001b[39m\u001b[39mAlerta ⚠️: El electrodoméstico no está enchufado\u001b[39m\u001b[39m'\u001b[39m)\n",
      "\u001b[1;31mException\u001b[0m: Alerta ⚠️: El electrodoméstico no está enchufado"
     ]
    }
   ],
   "source": [
    "# Esta celda debería levantar una excepcion indicando que no está enchufada la jugera.\n",
    "jugera.preparar_jugo()"
   ]
  },
  {
   "cell_type": "code",
   "execution_count": 10,
   "metadata": {},
   "outputs": [],
   "source": [
    "# Enchufamos el electrodoméstico\n",
    "jugera.enchufar()"
   ]
  },
  {
   "cell_type": "code",
   "execution_count": 11,
   "metadata": {},
   "outputs": [
    {
     "ename": "Exception",
     "evalue": "Error ❌: La bandeja no tiene ingredientes.",
     "output_type": "error",
     "traceback": [
      "\u001b[1;31m---------------------------------------------------------------------------\u001b[0m",
      "\u001b[1;31mException\u001b[0m                                 Traceback (most recent call last)",
      "Cell \u001b[1;32mIn[11], line 2\u001b[0m\n\u001b[0;32m      1\u001b[0m \u001b[39m# Esta celda debería levantar ina excepción informandoles que la bandeja no tiene ingredientes.\u001b[39;00m\n\u001b[1;32m----> 2\u001b[0m jugera\u001b[39m.\u001b[39;49mpreparar_jugo()\n",
      "Cell \u001b[1;32mIn[7], line 24\u001b[0m, in \u001b[0;36mJugera.preparar_jugo\u001b[1;34m(self)\u001b[0m\n\u001b[0;32m     21\u001b[0m \u001b[39mself\u001b[39m\u001b[39m.\u001b[39mesta_enchufado()\n\u001b[0;32m     23\u001b[0m \u001b[39mif\u001b[39;00m \u001b[39mself\u001b[39m\u001b[39m.\u001b[39mbandeja \u001b[39m==\u001b[39m []:\n\u001b[1;32m---> 24\u001b[0m     \u001b[39mraise\u001b[39;00m \u001b[39mException\u001b[39;00m(\u001b[39m'\u001b[39m\u001b[39mError ❌: La bandeja no tiene ingredientes.\u001b[39m\u001b[39m'\u001b[39m)\n\u001b[0;32m     26\u001b[0m \u001b[39mfor\u001b[39;00m fruta \u001b[39min\u001b[39;00m \u001b[39mself\u001b[39m\u001b[39m.\u001b[39mbandeja:\n\u001b[0;32m     27\u001b[0m     \u001b[39mif\u001b[39;00m fruta[\u001b[39m'\u001b[39m\u001b[39mpepas\u001b[39m\u001b[39m'\u001b[39m] \u001b[39m==\u001b[39m \u001b[39mTrue\u001b[39;00m:\n",
      "\u001b[1;31mException\u001b[0m: Error ❌: La bandeja no tiene ingredientes."
     ]
    }
   ],
   "source": [
    "# Esta celda debería levantar ina excepción informandoles que la bandeja no tiene ingredientes.\n",
    "jugera.preparar_jugo()"
   ]
  },
  {
   "cell_type": "code",
   "execution_count": 12,
   "metadata": {},
   "outputs": [
    {
     "name": "stdout",
     "output_type": "stream",
     "text": [
      "Ingredientes en la bandeja: naranja, plátano\n"
     ]
    }
   ],
   "source": [
    "# Agregamos algunos ingredientes\n",
    "jugera.agregar_ingrediente(naranja)\n",
    "jugera.agregar_ingrediente(platano)\n",
    "\n",
    "# Y los listamos (debería imprimir: 'Ingredientes en la bandeja: naranja, plátano')\n",
    "jugera.listar_ingredientes()"
   ]
  },
  {
   "cell_type": "code",
   "execution_count": 13,
   "metadata": {},
   "outputs": [
    {
     "name": "stdout",
     "output_type": "stream",
     "text": [
      "Alerta ⚠️: El jugo puede contener restos de pepas.\n",
      "Jugo de naranja, plátano listo. 🏖️🥤 Que lo disfrutes!!! 🥤🏖️.\n"
     ]
    }
   ],
   "source": [
    "# Preparamos el jugo: 'Jugo de naranja, plátano listo. 🏖️🥤 Que lo disfrutes!!! 🥤🏖️.'\n",
    "jugera.preparar_jugo()"
   ]
  },
  {
   "cell_type": "code",
   "execution_count": 14,
   "metadata": {},
   "outputs": [
    {
     "name": "stdout",
     "output_type": "stream",
     "text": [
      "Bandeja vacia\n"
     ]
    }
   ],
   "source": [
    "# Una vez preparado el jugo, debería vaciarse la bandeja (imprimir Bandeja vacía)\n",
    "jugera.listar_ingredientes()"
   ]
  },
  {
   "cell_type": "markdown",
   "metadata": {},
   "source": [
    "### Clase Jugera + Properties  [1.0 puntos]\n",
    "\n",
    "Implementar `bandeja` usando una `property` que permita setear una `nueva_bandeja` como `bandeja` según las siguientes condiciones:\n",
    "\n",
    "\n",
    "- Compruebe que `nueva_bandeja` sea una lista. En caso contrario, levante una excepción.\n",
    "- No permita agregar más de 3 ingredientes a la bandeja a la vez. Si se entregan más de 3 frutas, se levante una excepción.\n",
    "- Se compruebe que todos los elementos de la lista sean frutas. Para esto, por cada fruta compruebe que:\n",
    "    1. La fruta sea diccionario.\n",
    "    2. El diccionario entregado tenga las llaves `nombre`, `tipo`, `color` y `pepas`."
   ]
  },
  {
   "cell_type": "code",
   "execution_count": 66,
   "metadata": {},
   "outputs": [
    {
     "data": {
      "text/plain": [
       "type"
      ]
     },
     "execution_count": 66,
     "metadata": {},
     "output_type": "execute_result"
    }
   ],
   "source": []
  },
  {
   "cell_type": "code",
   "execution_count": 19,
   "metadata": {},
   "outputs": [],
   "source": [
    "class Jugera(Electrodomestico):\n",
    "    \n",
    "    def __init__(self):\n",
    "        # Código Aquí\n",
    "        super().__init__()\n",
    "        self._bandeja = []\n",
    "\n",
    "    @property\n",
    "    def bandeja(self):\n",
    "        # Código Aquí\n",
    "        return self._bandeja\n",
    "        \n",
    "    @bandeja.setter\n",
    "    def bandeja(self, nueva_bandeja):\n",
    "            \n",
    "        if  isinstance(nueva_bandeja, list) == False :\n",
    "            raise Exception('Error ❌: nueva_bandeja no es de tipo lista')\n",
    "        \n",
    "        if len(nueva_bandeja) > 3:\n",
    "            raise Exception('Error ❌: nueva_bandeja tiene más de 3 frutas')\n",
    "        \n",
    "        for fruta in nueva_bandeja:\n",
    "            if isinstance(fruta, dict) == False:\n",
    "                raise Exception('Error ❌: nueva_bandeja tiene frutas que no son diccionario')\n",
    "            \n",
    "            keys = fruta.keys()\n",
    "            list_keys= list(keys)\n",
    "\n",
    "\n",
    "            if set(list_keys) != set([\"nombre\", \"tipo\", \"color\", \"pepas\"]):\n",
    "                 raise Exception('Error ❌: falta una llave en la fruta entregada')\n",
    "\n",
    "        self._bandeja = nueva_bandeja\n",
    "\n",
    "        \n",
    "        \n",
    "        \n",
    "        \n",
    "        # Código Aquí\n",
    "        self._bandeja = nueva_bandeja\n",
    "\n",
    "    def agregar_ingrediente(self, nueva_fruta):\n",
    "        self._bandeja.append(nueva_fruta)\n",
    "     \n",
    "    def listar_ingredientes(self):\n",
    "        if self._bandeja == []:\n",
    "            print(\"Bandeja vacia\")\n",
    "        else:\n",
    "            nombres = []\n",
    "            for fruta in self._bandeja:\n",
    "                nombres.append(fruta['nombre'])\n",
    "            elementos_bandeja = \", \".join(nombres)\n",
    "            print(f\"Ingredientes en la bandeja: {elementos_bandeja}\")\n",
    "    \n",
    "    def preparar_jugo(self):\n",
    "        self.esta_enchufado()\n",
    "\n",
    "        if self._bandeja == []:\n",
    "            raise Exception('Error ❌: La bandeja no tiene ingredientes.')\n",
    "\n",
    "        for fruta in self._bandeja:\n",
    "            if fruta['pepas'] == True:\n",
    "                print(\"Alerta ⚠️: El jugo puede contener restos de pepas.\")\n",
    "                break\n",
    "        \n",
    "        nombres = []\n",
    "        for fruta in self._bandeja:\n",
    "            nombres.append(fruta['nombre'])\n",
    "        elementos_jugo = \", \".join(nombres)\n",
    "        mensaje = print(f\"Jugo de {elementos_jugo} listo. 🏖️🥤 Que lo disfrutes!!! 🥤🏖️.\")\n",
    "\n",
    "        self._bandeja = []        \n",
    "        \n",
    "        return mensaje\n",
    "        \n",
    "        "
   ]
  },
  {
   "cell_type": "markdown",
   "metadata": {},
   "source": [
    "### Interacciones\n",
    "\n",
    "Las siguientes celdas les permitirán probar las interacciones de esta clase.\n",
    "La ejecución es solo referencial y no lleva puntaje. La idea es que la utilice como guía para desarrollar la clase."
   ]
  },
  {
   "cell_type": "code",
   "execution_count": 20,
   "metadata": {},
   "outputs": [
    {
     "name": "stdout",
     "output_type": "stream",
     "text": [
      "Bandeja vacia\n"
     ]
    }
   ],
   "source": [
    "jugera_2 = Jugera()\n",
    "\n",
    "jugera_2.listar_ingredientes()"
   ]
  },
  {
   "cell_type": "code",
   "execution_count": 21,
   "metadata": {},
   "outputs": [
    {
     "ename": "Exception",
     "evalue": "Alerta ⚠️: El electrodoméstico no está enchufado",
     "output_type": "error",
     "traceback": [
      "\u001b[1;31m---------------------------------------------------------------------------\u001b[0m",
      "\u001b[1;31mException\u001b[0m                                 Traceback (most recent call last)",
      "Cell \u001b[1;32mIn[21], line 1\u001b[0m\n\u001b[1;32m----> 1\u001b[0m jugera_2\u001b[39m.\u001b[39;49mpreparar_jugo()\n",
      "Cell \u001b[1;32mIn[19], line 56\u001b[0m, in \u001b[0;36mJugera.preparar_jugo\u001b[1;34m(self)\u001b[0m\n\u001b[0;32m     55\u001b[0m \u001b[39mdef\u001b[39;00m \u001b[39mpreparar_jugo\u001b[39m(\u001b[39mself\u001b[39m):\n\u001b[1;32m---> 56\u001b[0m     \u001b[39mself\u001b[39;49m\u001b[39m.\u001b[39;49mesta_enchufado()\n\u001b[0;32m     58\u001b[0m     \u001b[39mif\u001b[39;00m \u001b[39mself\u001b[39m\u001b[39m.\u001b[39m_bandeja \u001b[39m==\u001b[39m []:\n\u001b[0;32m     59\u001b[0m         \u001b[39mraise\u001b[39;00m \u001b[39mException\u001b[39;00m(\u001b[39m'\u001b[39m\u001b[39mError ❌: La bandeja no tiene ingredientes.\u001b[39m\u001b[39m'\u001b[39m)\n",
      "Cell \u001b[1;32mIn[1], line 8\u001b[0m, in \u001b[0;36mElectrodomestico.esta_enchufado\u001b[1;34m(self)\u001b[0m\n\u001b[0;32m      6\u001b[0m \u001b[39mdef\u001b[39;00m \u001b[39mesta_enchufado\u001b[39m(\u001b[39mself\u001b[39m):\n\u001b[0;32m      7\u001b[0m   \u001b[39mif\u001b[39;00m \u001b[39mnot\u001b[39;00m \u001b[39mself\u001b[39m\u001b[39m.\u001b[39menchufado:\n\u001b[1;32m----> 8\u001b[0m     \u001b[39mraise\u001b[39;00m \u001b[39mException\u001b[39;00m(\u001b[39m'\u001b[39m\u001b[39mAlerta ⚠️: El electrodoméstico no está enchufado\u001b[39m\u001b[39m'\u001b[39m)\n",
      "\u001b[1;31mException\u001b[0m: Alerta ⚠️: El electrodoméstico no está enchufado"
     ]
    }
   ],
   "source": [
    "jugera_2.preparar_jugo()"
   ]
  },
  {
   "cell_type": "code",
   "execution_count": 22,
   "metadata": {},
   "outputs": [],
   "source": [
    "# Enchufamos el electrodoméstico\n",
    "jugera_2.enchufar()"
   ]
  },
  {
   "cell_type": "code",
   "execution_count": 23,
   "metadata": {},
   "outputs": [
    {
     "ename": "Exception",
     "evalue": "Error ❌: La bandeja no tiene ingredientes.",
     "output_type": "error",
     "traceback": [
      "\u001b[1;31m---------------------------------------------------------------------------\u001b[0m",
      "\u001b[1;31mException\u001b[0m                                 Traceback (most recent call last)",
      "Cell \u001b[1;32mIn[23], line 2\u001b[0m\n\u001b[0;32m      1\u001b[0m \u001b[39m# Esta celda debería levantar ina excepción informandoles que la bandeja no tiene ingredientes.\u001b[39;00m\n\u001b[1;32m----> 2\u001b[0m jugera_2\u001b[39m.\u001b[39;49mpreparar_jugo()\n",
      "Cell \u001b[1;32mIn[19], line 59\u001b[0m, in \u001b[0;36mJugera.preparar_jugo\u001b[1;34m(self)\u001b[0m\n\u001b[0;32m     56\u001b[0m \u001b[39mself\u001b[39m\u001b[39m.\u001b[39mesta_enchufado()\n\u001b[0;32m     58\u001b[0m \u001b[39mif\u001b[39;00m \u001b[39mself\u001b[39m\u001b[39m.\u001b[39m_bandeja \u001b[39m==\u001b[39m []:\n\u001b[1;32m---> 59\u001b[0m     \u001b[39mraise\u001b[39;00m \u001b[39mException\u001b[39;00m(\u001b[39m'\u001b[39m\u001b[39mError ❌: La bandeja no tiene ingredientes.\u001b[39m\u001b[39m'\u001b[39m)\n\u001b[0;32m     61\u001b[0m \u001b[39mfor\u001b[39;00m fruta \u001b[39min\u001b[39;00m \u001b[39mself\u001b[39m\u001b[39m.\u001b[39m_bandeja:\n\u001b[0;32m     62\u001b[0m     \u001b[39mif\u001b[39;00m fruta[\u001b[39m'\u001b[39m\u001b[39mpepas\u001b[39m\u001b[39m'\u001b[39m] \u001b[39m==\u001b[39m \u001b[39mTrue\u001b[39;00m:\n",
      "\u001b[1;31mException\u001b[0m: Error ❌: La bandeja no tiene ingredientes."
     ]
    }
   ],
   "source": [
    "# Esta celda debería levantar ina excepción informandoles que la bandeja no tiene ingredientes.\n",
    "jugera_2.preparar_jugo()"
   ]
  },
  {
   "cell_type": "code",
   "execution_count": 24,
   "metadata": {},
   "outputs": [
    {
     "ename": "Exception",
     "evalue": "Error ❌: nueva_bandeja tiene más de 3 frutas",
     "output_type": "error",
     "traceback": [
      "\u001b[1;31m---------------------------------------------------------------------------\u001b[0m",
      "\u001b[1;31mException\u001b[0m                                 Traceback (most recent call last)",
      "Cell \u001b[1;32mIn[24], line 2\u001b[0m\n\u001b[0;32m      1\u001b[0m \u001b[39m# Agregamos algunos ingredientes (en este caso, como son más de 3, fallará)\u001b[39;00m\n\u001b[1;32m----> 2\u001b[0m jugera_2\u001b[39m.\u001b[39;49mbandeja \u001b[39m=\u001b[39m [naranja, platano, frutilla, limon]\n",
      "Cell \u001b[1;32mIn[19], line 20\u001b[0m, in \u001b[0;36mJugera.bandeja\u001b[1;34m(self, nueva_bandeja)\u001b[0m\n\u001b[0;32m     17\u001b[0m     \u001b[39mraise\u001b[39;00m \u001b[39mException\u001b[39;00m(\u001b[39m'\u001b[39m\u001b[39mError ❌: nueva_bandeja no es de tipo lista\u001b[39m\u001b[39m'\u001b[39m)\n\u001b[0;32m     19\u001b[0m \u001b[39mif\u001b[39;00m \u001b[39mlen\u001b[39m(nueva_bandeja) \u001b[39m>\u001b[39m \u001b[39m3\u001b[39m:\n\u001b[1;32m---> 20\u001b[0m     \u001b[39mraise\u001b[39;00m \u001b[39mException\u001b[39;00m(\u001b[39m'\u001b[39m\u001b[39mError ❌: nueva_bandeja tiene más de 3 frutas\u001b[39m\u001b[39m'\u001b[39m)\n\u001b[0;32m     22\u001b[0m \u001b[39mfor\u001b[39;00m fruta \u001b[39min\u001b[39;00m nueva_bandeja:\n\u001b[0;32m     23\u001b[0m     \u001b[39mif\u001b[39;00m \u001b[39misinstance\u001b[39m(fruta, \u001b[39mdict\u001b[39m) \u001b[39m==\u001b[39m \u001b[39mFalse\u001b[39;00m:\n",
      "\u001b[1;31mException\u001b[0m: Error ❌: nueva_bandeja tiene más de 3 frutas"
     ]
    }
   ],
   "source": [
    "# Agregamos algunos ingredientes (en este caso, como son más de 3, fallará)\n",
    "jugera_2.bandeja = [naranja, platano, frutilla, limon]"
   ]
  },
  {
   "cell_type": "code",
   "execution_count": 25,
   "metadata": {},
   "outputs": [
    {
     "ename": "Exception",
     "evalue": "Error ❌: nueva_bandeja tiene frutas que no son diccionario",
     "output_type": "error",
     "traceback": [
      "\u001b[1;31m---------------------------------------------------------------------------\u001b[0m",
      "\u001b[1;31mException\u001b[0m                                 Traceback (most recent call last)",
      "Cell \u001b[1;32mIn[25], line 3\u001b[0m\n\u001b[0;32m      1\u001b[0m \u001b[39m# Agregamos algunos ingredientes \u001b[39;00m\n\u001b[0;32m      2\u001b[0m \u001b[39m# (en este caso debería fallar, ya que estamos entregando un string en el primer lugar)\u001b[39;00m\n\u001b[1;32m----> 3\u001b[0m jugera_2\u001b[39m.\u001b[39;49mbandeja \u001b[39m=\u001b[39m [\u001b[39m\"\u001b[39m\u001b[39mnaranja\u001b[39m\u001b[39m\"\u001b[39m, platano, frutilla]\n",
      "Cell \u001b[1;32mIn[19], line 24\u001b[0m, in \u001b[0;36mJugera.bandeja\u001b[1;34m(self, nueva_bandeja)\u001b[0m\n\u001b[0;32m     22\u001b[0m \u001b[39mfor\u001b[39;00m fruta \u001b[39min\u001b[39;00m nueva_bandeja:\n\u001b[0;32m     23\u001b[0m     \u001b[39mif\u001b[39;00m \u001b[39misinstance\u001b[39m(fruta, \u001b[39mdict\u001b[39m) \u001b[39m==\u001b[39m \u001b[39mFalse\u001b[39;00m:\n\u001b[1;32m---> 24\u001b[0m         \u001b[39mraise\u001b[39;00m \u001b[39mException\u001b[39;00m(\u001b[39m'\u001b[39m\u001b[39mError ❌: nueva_bandeja tiene frutas que no son diccionario\u001b[39m\u001b[39m'\u001b[39m)\n\u001b[0;32m     26\u001b[0m     keys \u001b[39m=\u001b[39m fruta\u001b[39m.\u001b[39mkeys()\n\u001b[0;32m     27\u001b[0m     list_keys\u001b[39m=\u001b[39m \u001b[39mlist\u001b[39m(keys)\n",
      "\u001b[1;31mException\u001b[0m: Error ❌: nueva_bandeja tiene frutas que no son diccionario"
     ]
    }
   ],
   "source": [
    "# Agregamos algunos ingredientes \n",
    "# (en este caso debería fallar, ya que estamos entregando un string en el primer lugar)\n",
    "jugera_2.bandeja = [\"naranja\", platano, frutilla]"
   ]
  },
  {
   "cell_type": "code",
   "execution_count": 26,
   "metadata": {},
   "outputs": [
    {
     "ename": "Exception",
     "evalue": "Error ❌: falta una llave en la fruta entregada",
     "output_type": "error",
     "traceback": [
      "\u001b[1;31m---------------------------------------------------------------------------\u001b[0m",
      "\u001b[1;31mException\u001b[0m                                 Traceback (most recent call last)",
      "Cell \u001b[1;32mIn[26], line 3\u001b[0m\n\u001b[0;32m      1\u001b[0m \u001b[39m# Agregamos algunos ingredientes \u001b[39;00m\n\u001b[0;32m      2\u001b[0m \u001b[39m# (en este caso debería fallar, ya que arándando tiene solo la llave nombre)\u001b[39;00m\n\u001b[1;32m----> 3\u001b[0m jugera_2\u001b[39m.\u001b[39;49mbandeja \u001b[39m=\u001b[39m [{\u001b[39m'\u001b[39m\u001b[39mnombre\u001b[39m\u001b[39m'\u001b[39m: \u001b[39m'\u001b[39m\u001b[39marándano\u001b[39m\u001b[39m'\u001b[39m}, platano, frutilla]\n",
      "Cell \u001b[1;32mIn[19], line 31\u001b[0m, in \u001b[0;36mJugera.bandeja\u001b[1;34m(self, nueva_bandeja)\u001b[0m\n\u001b[0;32m     27\u001b[0m     list_keys\u001b[39m=\u001b[39m \u001b[39mlist\u001b[39m(keys)\n\u001b[0;32m     30\u001b[0m     \u001b[39mif\u001b[39;00m \u001b[39mset\u001b[39m(list_keys) \u001b[39m!=\u001b[39m \u001b[39mset\u001b[39m([\u001b[39m\"\u001b[39m\u001b[39mnombre\u001b[39m\u001b[39m\"\u001b[39m, \u001b[39m\"\u001b[39m\u001b[39mtipo\u001b[39m\u001b[39m\"\u001b[39m, \u001b[39m\"\u001b[39m\u001b[39mcolor\u001b[39m\u001b[39m\"\u001b[39m, \u001b[39m\"\u001b[39m\u001b[39mpepas\u001b[39m\u001b[39m\"\u001b[39m]):\n\u001b[1;32m---> 31\u001b[0m          \u001b[39mraise\u001b[39;00m \u001b[39mException\u001b[39;00m(\u001b[39m'\u001b[39m\u001b[39mError ❌: falta una llave en la fruta entregada\u001b[39m\u001b[39m'\u001b[39m)\n\u001b[0;32m     33\u001b[0m \u001b[39mself\u001b[39m\u001b[39m.\u001b[39m_bandeja \u001b[39m=\u001b[39m nueva_bandeja\n\u001b[0;32m     39\u001b[0m \u001b[39m# Código Aquí\u001b[39;00m\n",
      "\u001b[1;31mException\u001b[0m: Error ❌: falta una llave en la fruta entregada"
     ]
    }
   ],
   "source": [
    "# Agregamos algunos ingredientes \n",
    "# (en este caso debería fallar, ya que arándando tiene solo la llave nombre)\n",
    "jugera_2.bandeja = [{'nombre': 'arándano'}, platano, frutilla]"
   ]
  },
  {
   "cell_type": "code",
   "execution_count": 27,
   "metadata": {},
   "outputs": [
    {
     "name": "stdout",
     "output_type": "stream",
     "text": [
      "Ingredientes en la bandeja: naranja, plátano, frutilla\n"
     ]
    }
   ],
   "source": [
    "# Agregamos algunos ingredientes (en este caso, como son 3, debería funcionar)\n",
    "jugera_2.bandeja = [naranja, platano, frutilla]\n",
    "\n",
    "# Y los listamos (debería imprimir: 'Ingredientes en la bandeja: naranja, plátano')\n",
    "jugera_2.listar_ingredientes()"
   ]
  },
  {
   "cell_type": "code",
   "execution_count": 28,
   "metadata": {},
   "outputs": [
    {
     "name": "stdout",
     "output_type": "stream",
     "text": [
      "Alerta ⚠️: El jugo puede contener restos de pepas.\n",
      "Jugo de naranja, plátano, frutilla listo. 🏖️🥤 Que lo disfrutes!!! 🥤🏖️.\n"
     ]
    }
   ],
   "source": [
    "# Una vez preparado el jugo, imprima el contenido del jugo y si una alerta, \n",
    "# en el caso que el jugo tenga pepas.\n",
    "jugera_2.preparar_jugo()"
   ]
  },
  {
   "cell_type": "code",
   "execution_count": 29,
   "metadata": {},
   "outputs": [
    {
     "name": "stdout",
     "output_type": "stream",
     "text": [
      "Bandeja vacia\n"
     ]
    }
   ],
   "source": [
    "# Una vez preparado el jugo, debería vaciarse la bandeja (imprimir Bandeja vacía)\n",
    "jugera_2.listar_ingredientes()"
   ]
  },
  {
   "cell_type": "markdown",
   "metadata": {},
   "source": [
    "## Parte 3 [1.0 puntos]"
   ]
  },
  {
   "cell_type": "markdown",
   "metadata": {},
   "source": [
    "Para esta última parte, deben responder las siguientes preguntas:\n",
    "\n",
    "1. ¿Qué es un virtual environment? ¿Para qué sirve? (0.25 ptos)\n",
    "\n",
    "Es un directorio que contiene una instalación de Python de una versión en particular, además de unos cuantos paquetes adicionales. Sirve para resolver conflictos entre distintos paquetes.\n",
    "\n",
    "2. ¿Qué ventajas puede tener usar un virtual environment? Nombre y explique al menos 2. (0.25 ptos)\n",
    "\n",
    "Entre las ventajas que existen al usar un virtual environment se puede destacar el `aislamiento de dependencias`, que consiste en que cada proyecto tiene su entorno de dependencias aislado de otros proyectos, lo que impide que distintas versiones de una misma libreria por ejemplo, entren en conflicto entre si. Por otro lado, usar un virtual environment permite compartir un proyecto a otros desarrolladores junto con el archivo de requisitos (requirements file), el cual provoca que todos los usuarios a los cuales se les compartio en proyecto ocupen la misma versión de todas las librerias utilizadas, logrando un trabajo mucho más consistente.\n",
    "\n",
    "3. Escriba el comando para crear un virtual environment usando `conda`. ¿Existen otras formas de crear un virtual environment? (0.25 ptos)\n",
    "\n",
    "El comando para crear un virtual environment usando `conda` es:\n",
    "\n",
    "`conda create -n nombre_env`.\n",
    "\n",
    "Si, por medio de Python usando el comando `python -m venv nombre_env`.\n",
    "\n",
    "4. ¿De qué forma podemos exportar las librerias instaladas en un virtual environment? Escriba el comando que nos permite realizar esto.  (0.25 ptos)\n",
    "\n",
    "El comando para exportar liberias en un virtual environment es:\n",
    "\n",
    "`pip freeze > requirements.txt`."
   ]
  }
 ],
 "metadata": {
  "interpreter": {
   "hash": "c0a4d12a39e16a62064b5798041b087a92b77d80e370733af5a5500fdd5a801a"
  },
  "kernelspec": {
   "display_name": "Python 3.9.6 64-bit",
   "name": "python3"
  },
  "language_info": {
   "codemirror_mode": {
    "name": "ipython",
    "version": 3
   },
   "file_extension": ".py",
   "mimetype": "text/x-python",
   "name": "python",
   "nbconvert_exporter": "python",
   "pygments_lexer": "ipython3",
   "version": "3.10.9"
  },
  "orig_nbformat": 4
 },
 "nbformat": 4,
 "nbformat_minor": 2
}
